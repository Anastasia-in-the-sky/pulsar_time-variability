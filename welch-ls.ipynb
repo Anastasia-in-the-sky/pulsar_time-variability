{
 "cells": [
  {
   "cell_type": "markdown",
   "metadata": {},
   "source": [
    "# Imports"
   ]
  },
  {
   "cell_type": "code",
   "execution_count": 1,
   "metadata": {
    "collapsed": false
   },
   "outputs": [],
   "source": [
    "import numpy as np                    # Arrays, linear algebra, ...\n",
    "import astropy                        # Lomb-Scargle implementation we're using\n",
    "import pandas as pd                   # Put data in DataFrame data structure\n",
    "import matplotlib.pyplot as plt       # Plotting\n",
    "%matplotlib inline"
   ]
  },
  {
   "cell_type": "markdown",
   "metadata": {},
   "source": [
    "# Plot cosmetics"
   ]
  },
  {
   "cell_type": "code",
   "execution_count": 40,
   "metadata": {
    "collapsed": true
   },
   "outputs": [],
   "source": [
    "suptitle_size = 24\n",
    "title_size = 20\n",
    "axislabel_size = 18\n",
    "axistick_size = 16\n",
    "\n",
    "gray_color = (0.2, 0.2, 0.2)\n",
    "green_color = (0.4, 0.7, 0.4)"
   ]
  },
  {
   "cell_type": "code",
   "execution_count": 45,
   "metadata": {
    "collapsed": false
   },
   "outputs": [
    {
     "data": {
      "image/png": "[encoded data removed]",
      "text/plain": [
       "<matplotlib.figure.Figure at 0x7f9a035cd350>"
      ]
     },
     "metadata": {},
     "output_type": "display_data"
    }
   ],
   "source": [
    "plt.scatter([0,1], [1,1], c = [gray_color, green_color], s = 1000)\n",
    "plt.ylim(.99, 1.01)\n",
    "plt.show()"
   ]
  },
  {
   "cell_type": "markdown",
   "metadata": {},
   "source": [
    "# File reformatting\n",
    "Files have to be formatted properly for Pandas to read them.\n",
    "Convert these blocks to code to use (click cell, hit esc+y).\n",
    "- Convert all field separators (delimiters) to the same type.\n",
    "- Strip quotation marks.\n",
    "- Save the file.\n",
    "Only run these code blocks once"
   ]
  },
  {
   "cell_type": "raw",
   "metadata": {
    "collapsed": true
   },
   "source": [
    "directory = './data/J1311_5min/'\n",
    "pulsar_name = 'J1311'\n",
    "\n",
    "# > 2 GeV photons only\n",
    "twogev_file_name = 'J1311_lc_2GeV.txt'\n",
    "twogev_file_path = directory + twogev_file_name\n",
    "\n",
    "# All photons\n",
    "full_file_name = 'J1311_lc.txt'\n",
    "full_file_path = directory + full_file_name"
   ]
  },
  {
   "cell_type": "markdown",
   "metadata": {},
   "source": [
    "### Convert all delimiters to tab\n",
    "Might have to edit the code to work for different formats of data files (all have been slightly different)"
   ]
  },
  {
   "cell_type": "raw",
   "metadata": {
    "collapsed": true
   },
   "source": [
    "new_full_file_path = directory + 'new_' + full_file_name"
   ]
  },
  {
   "cell_type": "raw",
   "metadata": {},
   "source": [
    "new_twogev_file_path = directory + 'new_' + twogev_file_name\n",
    "new_full_file_path = directory + 'new_' + full_file_name"
   ]
  },
  {
   "cell_type": "raw",
   "metadata": {},
   "source": [
    "header_row = 'TIME\\tTIMEDEL\\tCOUNTS\\tERROR\\tEXPOSURE\\tRATE\\tRATE_ERROR\\n'\n",
    "\n",
    "# Replace two gev\n",
    "twogev_file_handle = open(twogev_file_path, 'r')\n",
    "new_twogev_file_handle = open(new_twogev_file_path, 'w')\n",
    "\n",
    "for i, row in enumerate(twogev_file_handle):\n",
    "    if i == 0 and row != header_row:\n",
    "        # Insert the header row\n",
    "        rep_row = header_row\n",
    "    else:\n",
    "        rep_row = row.replace(',', '\\t')      # Change comma to tab\n",
    "        rep_row = rep_row.replace(' ', '\\t')      # Change space to tab\n",
    "        rep_row = rep_row.replace('\\\"', '')   # Remove quotations\n",
    "    new_twogev_file_handle.write(rep_row)\n",
    "    \n",
    "twogev_file_handle.close()\n",
    "new_twogev_file_handle.close()\n",
    "    \n",
    "    \n",
    "# Replace full\n",
    "full_file_handle = open(full_file_path, 'r')\n",
    "new_full_file_handle = open(new_full_file_path, 'w')\n",
    "\n",
    "for i, row in enumerate(full_file_handle):\n",
    "    if i == 0 and row != header_row:\n",
    "        rep_row = header_row\n",
    "    else:\n",
    "        rep_row = row.replace(',', '\\t')\n",
    "        rep_row = rep_row.replace(' ', '\\t')\n",
    "        rep_row = rep_row.replace('\\\"', '')\n",
    "    new_full_file_handle.write(rep_row)\n",
    "    \n",
    "full_file_handle.close()\n",
    "new_full_file_handle.close()"
   ]
  },
  {
   "cell_type": "markdown",
   "metadata": {},
   "source": [
    "# Open data from files"
   ]
  },
  {
   "cell_type": "markdown",
   "metadata": {},
   "source": [
    "##### Orbital periods:\n",
    "- J1311: 93.8 minutes = 0.06514 days"
   ]
  },
  {
   "cell_type": "code",
   "execution_count": 33,
   "metadata": {
    "collapsed": true
   },
   "outputs": [],
   "source": [
    "directory = './data/J1311_5min/'\n",
    "pulsar_name = 'J1311'\n",
    "orbital_period = 0.06514\n",
    "\n",
    "# > 2 GeV photons only\n",
    "twogev_file_name = 'new_J1311_lc_2GeV.txt'\n",
    "twogev_file_path = directory + twogev_file_name\n",
    "\n",
    "# All photons\n",
    "full_file_name = 'new_J1311_lc.txt'\n",
    "full_file_path = directory + full_file_name"
   ]
  },
  {
   "cell_type": "markdown",
   "metadata": {},
   "source": [
    "### Create pandas dataframe to contain all of the data"
   ]
  },
  {
   "cell_type": "code",
   "execution_count": 13,
   "metadata": {
    "collapsed": false
   },
   "outputs": [],
   "source": [
    "twogev_df = pd.read_csv(twogev_file_path, sep = '\\t', header = 0)\n",
    "full_df = pd.read_csv(full_file_path, sep = '\\t', header = 0)"
   ]
  },
  {
   "cell_type": "code",
   "execution_count": 14,
   "metadata": {
    "collapsed": false
   },
   "outputs": [
    {
     "data": {
      "text/html": [
       "<div>\n",
       "<table border=\"1\" class=\"dataframe\">\n",
       "  <thead>\n",
       "    <tr style=\"text-align: right;\">\n",
       "      <th></th>\n",
       "      <th>TIME</th>\n",
       "      <th>TIMEDEL</th>\n",
       "      <th>COUNTS</th>\n",
       "      <th>ERROR</th>\n",
       "      <th>EXPOSURE</th>\n",
       "      <th>RATE</th>\n",
       "      <th>RATE_ERROR</th>\n",
       "    </tr>\n",
       "  </thead>\n",
       "  <tbody>\n",
       "    <tr>\n",
       "      <th>0</th>\n",
       "      <td>239557567.0</td>\n",
       "      <td>300.0</td>\n",
       "      <td>0</td>\n",
       "      <td>1.866025</td>\n",
       "      <td>0.0</td>\n",
       "      <td>NaN</td>\n",
       "      <td>NaN</td>\n",
       "    </tr>\n",
       "    <tr>\n",
       "      <th>1</th>\n",
       "      <td>239557867.0</td>\n",
       "      <td>300.0</td>\n",
       "      <td>0</td>\n",
       "      <td>1.866025</td>\n",
       "      <td>0.0</td>\n",
       "      <td>NaN</td>\n",
       "      <td>NaN</td>\n",
       "    </tr>\n",
       "    <tr>\n",
       "      <th>2</th>\n",
       "      <td>239558167.0</td>\n",
       "      <td>300.0</td>\n",
       "      <td>0</td>\n",
       "      <td>1.866025</td>\n",
       "      <td>0.0</td>\n",
       "      <td>NaN</td>\n",
       "      <td>NaN</td>\n",
       "    </tr>\n",
       "    <tr>\n",
       "      <th>3</th>\n",
       "      <td>239558467.0</td>\n",
       "      <td>300.0</td>\n",
       "      <td>0</td>\n",
       "      <td>1.866025</td>\n",
       "      <td>0.0</td>\n",
       "      <td>NaN</td>\n",
       "      <td>NaN</td>\n",
       "    </tr>\n",
       "    <tr>\n",
       "      <th>4</th>\n",
       "      <td>239558767.0</td>\n",
       "      <td>300.0</td>\n",
       "      <td>0</td>\n",
       "      <td>1.866025</td>\n",
       "      <td>0.0</td>\n",
       "      <td>NaN</td>\n",
       "      <td>NaN</td>\n",
       "    </tr>\n",
       "    <tr>\n",
       "      <th>5</th>\n",
       "      <td>239559067.0</td>\n",
       "      <td>300.0</td>\n",
       "      <td>0</td>\n",
       "      <td>1.866025</td>\n",
       "      <td>0.0</td>\n",
       "      <td>NaN</td>\n",
       "      <td>NaN</td>\n",
       "    </tr>\n",
       "    <tr>\n",
       "      <th>6</th>\n",
       "      <td>239559367.0</td>\n",
       "      <td>300.0</td>\n",
       "      <td>0</td>\n",
       "      <td>1.866025</td>\n",
       "      <td>0.0</td>\n",
       "      <td>NaN</td>\n",
       "      <td>NaN</td>\n",
       "    </tr>\n",
       "    <tr>\n",
       "      <th>7</th>\n",
       "      <td>239559667.0</td>\n",
       "      <td>300.0</td>\n",
       "      <td>0</td>\n",
       "      <td>1.866025</td>\n",
       "      <td>863776.6</td>\n",
       "      <td>0.0</td>\n",
       "      <td>0.000002</td>\n",
       "    </tr>\n",
       "    <tr>\n",
       "      <th>8</th>\n",
       "      <td>239559967.0</td>\n",
       "      <td>300.0</td>\n",
       "      <td>0</td>\n",
       "      <td>1.866025</td>\n",
       "      <td>509511.2</td>\n",
       "      <td>0.0</td>\n",
       "      <td>0.000004</td>\n",
       "    </tr>\n",
       "    <tr>\n",
       "      <th>9</th>\n",
       "      <td>239560267.0</td>\n",
       "      <td>300.0</td>\n",
       "      <td>0</td>\n",
       "      <td>1.866025</td>\n",
       "      <td>33179.0</td>\n",
       "      <td>0.0</td>\n",
       "      <td>0.000056</td>\n",
       "    </tr>\n",
       "  </tbody>\n",
       "</table>\n",
       "</div>"
      ],
      "text/plain": [
       "          TIME  TIMEDEL  COUNTS     ERROR  EXPOSURE  RATE  RATE_ERROR\n",
       "0  239557567.0    300.0       0  1.866025       0.0   NaN         NaN\n",
       "1  239557867.0    300.0       0  1.866025       0.0   NaN         NaN\n",
       "2  239558167.0    300.0       0  1.866025       0.0   NaN         NaN\n",
       "3  239558467.0    300.0       0  1.866025       0.0   NaN         NaN\n",
       "4  239558767.0    300.0       0  1.866025       0.0   NaN         NaN\n",
       "5  239559067.0    300.0       0  1.866025       0.0   NaN         NaN\n",
       "6  239559367.0    300.0       0  1.866025       0.0   NaN         NaN\n",
       "7  239559667.0    300.0       0  1.866025  863776.6   0.0    0.000002\n",
       "8  239559967.0    300.0       0  1.866025  509511.2   0.0    0.000004\n",
       "9  239560267.0    300.0       0  1.866025   33179.0   0.0    0.000056"
      ]
     },
     "execution_count": 14,
     "metadata": {},
     "output_type": "execute_result"
    }
   ],
   "source": [
    "twogev_df.head(10)"
   ]
  },
  {
   "cell_type": "code",
   "execution_count": 15,
   "metadata": {
    "collapsed": false
   },
   "outputs": [
    {
     "data": {
      "text/html": [
       "<div>\n",
       "<table border=\"1\" class=\"dataframe\">\n",
       "  <thead>\n",
       "    <tr style=\"text-align: right;\">\n",
       "      <th></th>\n",
       "      <th>TIME</th>\n",
       "      <th>TIMEDEL</th>\n",
       "      <th>COUNTS</th>\n",
       "      <th>ERROR</th>\n",
       "      <th>EXPOSURE</th>\n",
       "      <th>RATE</th>\n",
       "      <th>RATE_ERROR</th>\n",
       "    </tr>\n",
       "  </thead>\n",
       "  <tbody>\n",
       "    <tr>\n",
       "      <th>0</th>\n",
       "      <td>239557867.0</td>\n",
       "      <td>300.0</td>\n",
       "      <td>0</td>\n",
       "      <td>1.866025</td>\n",
       "      <td>0.000</td>\n",
       "      <td>NaN</td>\n",
       "      <td>NaN</td>\n",
       "    </tr>\n",
       "    <tr>\n",
       "      <th>1</th>\n",
       "      <td>239558167.0</td>\n",
       "      <td>300.0</td>\n",
       "      <td>0</td>\n",
       "      <td>1.866025</td>\n",
       "      <td>0.000</td>\n",
       "      <td>NaN</td>\n",
       "      <td>NaN</td>\n",
       "    </tr>\n",
       "    <tr>\n",
       "      <th>2</th>\n",
       "      <td>239558467.0</td>\n",
       "      <td>300.0</td>\n",
       "      <td>0</td>\n",
       "      <td>1.866025</td>\n",
       "      <td>0.000</td>\n",
       "      <td>NaN</td>\n",
       "      <td>NaN</td>\n",
       "    </tr>\n",
       "    <tr>\n",
       "      <th>3</th>\n",
       "      <td>239558767.0</td>\n",
       "      <td>300.0</td>\n",
       "      <td>0</td>\n",
       "      <td>1.866025</td>\n",
       "      <td>0.000</td>\n",
       "      <td>NaN</td>\n",
       "      <td>NaN</td>\n",
       "    </tr>\n",
       "    <tr>\n",
       "      <th>4</th>\n",
       "      <td>239559067.0</td>\n",
       "      <td>300.0</td>\n",
       "      <td>0</td>\n",
       "      <td>1.866025</td>\n",
       "      <td>0.000</td>\n",
       "      <td>NaN</td>\n",
       "      <td>NaN</td>\n",
       "    </tr>\n",
       "    <tr>\n",
       "      <th>5</th>\n",
       "      <td>239559367.0</td>\n",
       "      <td>300.0</td>\n",
       "      <td>0</td>\n",
       "      <td>1.866025</td>\n",
       "      <td>0.000</td>\n",
       "      <td>NaN</td>\n",
       "      <td>NaN</td>\n",
       "    </tr>\n",
       "    <tr>\n",
       "      <th>6</th>\n",
       "      <td>239559667.0</td>\n",
       "      <td>300.0</td>\n",
       "      <td>0</td>\n",
       "      <td>1.866025</td>\n",
       "      <td>157588.600</td>\n",
       "      <td>0.0</td>\n",
       "      <td>0.000012</td>\n",
       "    </tr>\n",
       "    <tr>\n",
       "      <th>7</th>\n",
       "      <td>239559967.0</td>\n",
       "      <td>300.0</td>\n",
       "      <td>0</td>\n",
       "      <td>1.866025</td>\n",
       "      <td>79693.590</td>\n",
       "      <td>0.0</td>\n",
       "      <td>0.000023</td>\n",
       "    </tr>\n",
       "    <tr>\n",
       "      <th>8</th>\n",
       "      <td>239560267.0</td>\n",
       "      <td>300.0</td>\n",
       "      <td>0</td>\n",
       "      <td>1.866025</td>\n",
       "      <td>4198.091</td>\n",
       "      <td>0.0</td>\n",
       "      <td>0.000444</td>\n",
       "    </tr>\n",
       "    <tr>\n",
       "      <th>9</th>\n",
       "      <td>239560567.0</td>\n",
       "      <td>300.0</td>\n",
       "      <td>0</td>\n",
       "      <td>1.866025</td>\n",
       "      <td>0.000</td>\n",
       "      <td>NaN</td>\n",
       "      <td>NaN</td>\n",
       "    </tr>\n",
       "  </tbody>\n",
       "</table>\n",
       "</div>"
      ],
      "text/plain": [
       "          TIME  TIMEDEL  COUNTS     ERROR    EXPOSURE  RATE  RATE_ERROR\n",
       "0  239557867.0    300.0       0  1.866025       0.000   NaN         NaN\n",
       "1  239558167.0    300.0       0  1.866025       0.000   NaN         NaN\n",
       "2  239558467.0    300.0       0  1.866025       0.000   NaN         NaN\n",
       "3  239558767.0    300.0       0  1.866025       0.000   NaN         NaN\n",
       "4  239559067.0    300.0       0  1.866025       0.000   NaN         NaN\n",
       "5  239559367.0    300.0       0  1.866025       0.000   NaN         NaN\n",
       "6  239559667.0    300.0       0  1.866025  157588.600   0.0    0.000012\n",
       "7  239559967.0    300.0       0  1.866025   79693.590   0.0    0.000023\n",
       "8  239560267.0    300.0       0  1.866025    4198.091   0.0    0.000444\n",
       "9  239560567.0    300.0       0  1.866025       0.000   NaN         NaN"
      ]
     },
     "execution_count": 15,
     "metadata": {},
     "output_type": "execute_result"
    }
   ],
   "source": [
    "full_df.head(10)"
   ]
  },
  {
   "cell_type": "markdown",
   "metadata": {},
   "source": [
    "### Put the 'TIME' and 'RATE' columns into a numpy array\n",
    "##### Do not include data points for which EXPOSURE = 0"
   ]
  },
  {
   "cell_type": "code",
   "execution_count": 16,
   "metadata": {
    "collapsed": false
   },
   "outputs": [],
   "source": [
    "twogev_data = twogev_df[(twogev_df['EXPOSURE'] != 0)][['TIME', 'RATE']].values\n",
    "full_data = full_df[(full_df['EXPOSURE'] != 0)][['TIME', 'RATE']].values"
   ]
  },
  {
   "cell_type": "markdown",
   "metadata": {},
   "source": [
    "##### - Convert seconds to days (because we expect to find periodicity in days)\n",
    "##### - Offset to $t_{0} = 0$"
   ]
  },
  {
   "cell_type": "code",
   "execution_count": 18,
   "metadata": {
    "collapsed": false
   },
   "outputs": [],
   "source": [
    "for data in [twogev_data, full_data]:\n",
    "    data[:,0] = (data[:,0] - full_data[0,0])/(24*60*60.0)"
   ]
  },
  {
   "cell_type": "markdown",
   "metadata": {},
   "source": [
    "# Plot the rate time-series"
   ]
  },
  {
   "cell_type": "code",
   "execution_count": 19,
   "metadata": {
    "collapsed": false
   },
   "outputs": [
    {
     "data": {
      "image/png": "[encoded data removed]",
      "text/plain": [
       "<matplotlib.figure.Figure at 0x7f9a0faa0310>"
      ]
     },
     "metadata": {},
     "output_type": "display_data"
    }
   ],
   "source": [
    "# Fig initialization\n",
    "fig = plt.figure(figsize = (8,8))\n",
    "ax0 = fig.add_subplot(2,1,1)\n",
    "ax1 = fig.add_subplot(2,1,2)\n",
    "\n",
    "plt.suptitle(pulsar_name, size = suptitle_size,  y = 1.025)\n",
    "\n",
    "# > 2 GeV plot\n",
    "plt.sca(ax0)\n",
    "plt.plot(twogev_data[:,0], twogev_data[:,1], zorder = 100, c = gray_color) # zorder set large so data appears over grid\n",
    "\n",
    "plt.xlim(np.min(twogev_data[:,0]), np.max(twogev_data[:,0]))\n",
    "plt.ylim(0, np.max(twogev_data[:,1]))\n",
    "\n",
    "plt.grid()\n",
    "plt.tick_params(labelsize = axistick_size)\n",
    "\n",
    "plt.title(r'$>2$ GeV $\\gamma$ flux time-series', size = title_size)\n",
    "plt.xlabel('time (days)', size = axislabel_size)\n",
    "plt.ylabel('rate (counts/exposure)', size = axislabel_size)\n",
    "\n",
    "# All photons plot\n",
    "plt.sca(ax1)\n",
    "plt.plot(full_data[:,0], full_data[:,1], zorder = 100, c = gray_color)\n",
    "\n",
    "plt.xlim(np.min(full_data[:,0]), np.max(full_data[:,0]))\n",
    "plt.ylim(0,np.max(twogev_data[:,1]))\n",
    "\n",
    "plt.grid()\n",
    "plt.tick_params(labelsize = axistick_size)\n",
    "\n",
    "plt.title(r'all $\\gamma$ flux time-series', size = title_size)\n",
    "plt.xlabel('time (days)', size = axislabel_size)\n",
    "plt.ylabel('rate (counts/exposure)', size = axislabel_size)\n",
    "\n",
    "# Finalize, save, display plot\n",
    "fig.tight_layout()\n",
    "#plt.savefig('./' + pulsar_name + '_time-series.png', dpi = 300)\n",
    "\n",
    "plt.show()"
   ]
  },
  {
   "cell_type": "markdown",
   "metadata": {},
   "source": [
    "# Power spectral density (Lomb-Scargle periodogram)"
   ]
  },
  {
   "cell_type": "markdown",
   "metadata": {},
   "source": [
    "- [PSD](https://en.wikipedia.org/wiki/Spectral_density) is the Fourier transform of the time-series, squared:\n",
    "$$ S\\left(f\\right)=\\|\\hat{x}\\left(f\\right)\\|^{2} = \\left[\\int_{-\\infty}^{\\infty}e^{-2\\pi i f t}x\\left(t\\right)dt\\right]^{2}$$\n",
    "- It tells us how much of the total energy $~x^{2}$ is due to signal components at a given frequency\n",
    "- If there's some strong underlying physical process with a well-defined period, it will appear as a peak in the PSD\n",
    "- For discretely sampled data, we approximate the PSD with something called a **periodogram**\n",
    "- If the data is *evenly sampled*, we simply replace the Fourier transform with a discrete Fourier transform\n",
    "- The formula for the periodogram can be adapted for data that is not evenly sampled using something called the Lomb-Scargle periodogram\n",
    "- There is a fast Lomb-Scargle implementation in the Python astropy package that we can use"
   ]
  },
  {
   "cell_type": "code",
   "execution_count": 22,
   "metadata": {
    "collapsed": true
   },
   "outputs": [],
   "source": [
    "from astropy.stats import LombScargle"
   ]
  },
  {
   "cell_type": "markdown",
   "metadata": {},
   "source": [
    "##### Single segment Lomb-Scargle"
   ]
  },
  {
   "cell_type": "code",
   "execution_count": 48,
   "metadata": {
    "collapsed": false
   },
   "outputs": [],
   "source": [
    "num_intervals = 1.\n",
    "twogev_sample_length = twogev_data.shape[0]/num_intervals\n",
    "full_sample_length = full_data.shape[0]/num_intervals\n",
    "\n",
    "twogev_frequency_list = []\n",
    "twogev_power_list = []\n",
    "\n",
    "\n",
    "seg_start = int(0)\n",
    "seg_stop = int(twogev_sample_length)\n",
    "\n",
    "twogev_frequency, twogev_power = astropy.stats.LombScargle(twogev_data[seg_start:seg_stop, 0],\\\n",
    "                                                       twogev_data[seg_start:seg_stop, 1]).autopower()"
   ]
  },
  {
   "cell_type": "code",
   "execution_count": 49,
   "metadata": {
    "collapsed": false
   },
   "outputs": [
    {
     "data": {
      "image/png": "[encoded data removed]",
      "text/plain": [
       "<matplotlib.figure.Figure at 0x7f9a09448950>"
      ]
     },
     "metadata": {},
     "output_type": "display_data"
    }
   ],
   "source": [
    "fig = plt.figure(figsize = (8,6))\n",
    "\n",
    "plt.loglog(twogev_frequency, twogev_power, zorder = 100, c = gray_color)\n",
    "\n",
    "# Plot a line through the expected orbital frequency\n",
    "plt.plot([1./orbital_period, 1./orbital_period], [10.**(-32), 10.**32], ls = '--', lw = 3, c = green_color, zorder = 101)\n",
    "\n",
    "plt.xlim(np.min(twogev_frequency), np.max(twogev_frequency))\n",
    "plt.ylim(np.min(twogev_power), np.max(twogev_power))\n",
    "\n",
    "plt.grid()\n",
    "\n",
    "plt.title(pulsar_name + 'Periodogram', size = title_size)\n",
    "plt.xlabel('Frequency (days$^{-1}$)', size = axislabel_size)\n",
    "plt.ylabel('Power ($\\sim$rate$^{2}$)', size = axislabel_size)\n",
    "plt.tick_params(labelsize = axistick_size)\n",
    "\n",
    "plt.tight_layout()\n",
    "\n",
    "plt.show()"
   ]
  },
  {
   "cell_type": "markdown",
   "metadata": {},
   "source": [
    "# Insert Welch's method for Lomb-Scargle"
   ]
  },
  {
   "cell_type": "code",
   "execution_count": null,
   "metadata": {
    "collapsed": true
   },
   "outputs": [],
   "source": []
  }
 ],
 "metadata": {
  "kernelspec": {
   "display_name": "Python 2",
   "language": "python",
   "name": "python2"
  },
  "language_info": {
   "codemirror_mode": {
    "name": "ipython",
    "version": 2
   },
   "file_extension": ".py",
   "mimetype": "text/x-python",
   "name": "python",
   "nbconvert_exporter": "python",
   "pygments_lexer": "ipython2",
   "version": "2.7.11"
  }
 },
 "nbformat": 4,
 "nbformat_minor": 0
}
