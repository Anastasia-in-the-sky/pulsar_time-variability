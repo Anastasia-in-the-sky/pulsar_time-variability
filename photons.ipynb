{
 "cells": [
  {
   "cell_type": "markdown",
   "metadata": {},
   "source": [
    "# Imports"
   ]
  },
  {
   "cell_type": "code",
   "execution_count": 1,
   "metadata": {
    "collapsed": true
   },
   "outputs": [],
   "source": [
    "import csv\n",
    "\n",
    "import numpy as np\n",
    "import pandas as pd\n",
    "import scipy.signal\n",
    "import astropy.stats\n",
    "\n",
    "#import seaborn as sns\n",
    "import matplotlib.pyplot as plt\n",
    "%matplotlib inline"
   ]
  },
  {
   "cell_type": "markdown",
   "metadata": {},
   "source": [
    "# File IO\n",
    "- J1311 part 1 had error with additional 'E' inserted into line 40"
   ]
  },
  {
   "cell_type": "markdown",
   "metadata": {},
   "source": [
    "##### Get file paths"
   ]
  },
  {
   "cell_type": "code",
   "execution_count": 2,
   "metadata": {
    "collapsed": false
   },
   "outputs": [
    {
     "name": "stdout",
     "output_type": "stream",
     "text": [
      "['J1311_phase_part1.txt', 'J1311_phase_part2.txt', 'J1311_phase_part3.txt', 'J1311_phase_part4.txt', 'J1311_phase_part5.txt']\n",
      "./data/J1311_photons/J1311_phase_part1.txt\n",
      "./data/J1311_photons/J1311_phase_part2.txt\n",
      "./data/J1311_photons/J1311_phase_part3.txt\n",
      "./data/J1311_photons/J1311_phase_part4.txt\n",
      "./data/J1311_photons/J1311_phase_part5.txt\n"
     ]
    }
   ],
   "source": [
    "file_directory = './data/J1311_photons/'\n",
    "file_names = ['J1311_phase_part'+str(i)+'.txt' for i in range(1,6)]\n",
    "print file_names\n",
    "file_paths = [file_directory + file_name for file_name in file_names]\n",
    "for file_path in file_paths:\n",
    "    print file_path"
   ]
  },
  {
   "cell_type": "markdown",
   "metadata": {},
   "source": [
    "##### Load pandas df"
   ]
  },
  {
   "cell_type": "code",
   "execution_count": 3,
   "metadata": {
    "collapsed": false
   },
   "outputs": [
    {
     "name": "stdout",
     "output_type": "stream",
     "text": [
      "['ENERGY', 'RA', 'DEC', 'L', 'B', 'THETA', 'PHI', 'TIME', 'EVENT ID', 'PULSE PHASE']\n"
     ]
    }
   ],
   "source": [
    "# Adjust the header to be pandas conformant\n",
    "fh = open(file_paths[0])\n",
    "header = ' '.join(fh.read().split('\\n')[0].split()).split(' ')\n",
    "header = [ele.replace('_', ' ') for ele in header]\n",
    "print header\n",
    "fh.close()"
   ]
  },
  {
   "cell_type": "code",
   "execution_count": 4,
   "metadata": {
    "collapsed": false
   },
   "outputs": [],
   "source": [
    "df = pd.read_csv(file_paths[0], skiprows = [0], delimiter = ' ', header = None, names = header)"
   ]
  },
  {
   "cell_type": "code",
   "execution_count": 5,
   "metadata": {
    "collapsed": false,
    "scrolled": true
   },
   "outputs": [
    {
     "name": "stdout",
     "output_type": "stream",
     "text": [
      "ENERGY         float64\n",
      "RA             float64\n",
      "DEC            float64\n",
      "L              float64\n",
      "B              float64\n",
      "THETA          float64\n",
      "PHI            float64\n",
      "TIME           float64\n",
      "EVENT ID         int64\n",
      "PULSE PHASE    float64\n",
      "dtype: object\n"
     ]
    }
   ],
   "source": [
    "print df.dtypes"
   ]
  },
  {
   "cell_type": "code",
   "execution_count": 6,
   "metadata": {
    "collapsed": false
   },
   "outputs": [
    {
     "data": {
      "text/html": [
       "<div>\n",
       "<table border=\"1\" class=\"dataframe\">\n",
       "  <thead>\n",
       "    <tr style=\"text-align: right;\">\n",
       "      <th></th>\n",
       "      <th>ENERGY</th>\n",
       "      <th>RA</th>\n",
       "      <th>DEC</th>\n",
       "      <th>L</th>\n",
       "      <th>B</th>\n",
       "      <th>THETA</th>\n",
       "      <th>PHI</th>\n",
       "      <th>TIME</th>\n",
       "      <th>EVENT ID</th>\n",
       "      <th>PULSE PHASE</th>\n",
       "    </tr>\n",
       "  </thead>\n",
       "  <tbody>\n",
       "    <tr>\n",
       "      <th>0</th>\n",
       "      <td>117.8400</td>\n",
       "      <td>179.9646</td>\n",
       "      <td>-33.81308</td>\n",
       "      <td>290.8282</td>\n",
       "      <td>27.84342</td>\n",
       "      <td>58.71832</td>\n",
       "      <td>276.24650</td>\n",
       "      <td>2.396096e+08</td>\n",
       "      <td>5314571</td>\n",
       "      <td>0.652637</td>\n",
       "    </tr>\n",
       "    <tr>\n",
       "      <th>1</th>\n",
       "      <td>166.4942</td>\n",
       "      <td>179.7794</td>\n",
       "      <td>-36.94781</td>\n",
       "      <td>291.4443</td>\n",
       "      <td>24.75403</td>\n",
       "      <td>17.06174</td>\n",
       "      <td>297.73740</td>\n",
       "      <td>2.396105e+08</td>\n",
       "      <td>7254183</td>\n",
       "      <td>0.695484</td>\n",
       "    </tr>\n",
       "    <tr>\n",
       "      <th>2</th>\n",
       "      <td>1414.6280</td>\n",
       "      <td>179.9501</td>\n",
       "      <td>-35.99692</td>\n",
       "      <td>291.3597</td>\n",
       "      <td>25.71173</td>\n",
       "      <td>71.29970</td>\n",
       "      <td>349.51040</td>\n",
       "      <td>2.396118e+08</td>\n",
       "      <td>11024151</td>\n",
       "      <td>0.081871</td>\n",
       "    </tr>\n",
       "    <tr>\n",
       "      <th>3</th>\n",
       "      <td>12019.3700</td>\n",
       "      <td>179.7933</td>\n",
       "      <td>-35.63216</td>\n",
       "      <td>291.1318</td>\n",
       "      <td>26.03909</td>\n",
       "      <td>53.59599</td>\n",
       "      <td>75.80354</td>\n",
       "      <td>2.396165e+08</td>\n",
       "      <td>8917657</td>\n",
       "      <td>0.553284</td>\n",
       "    </tr>\n",
       "    <tr>\n",
       "      <th>4</th>\n",
       "      <td>176.3304</td>\n",
       "      <td>179.8074</td>\n",
       "      <td>-34.66773</td>\n",
       "      <td>290.9022</td>\n",
       "      <td>26.98145</td>\n",
       "      <td>53.96607</td>\n",
       "      <td>273.46490</td>\n",
       "      <td>2.396555e+08</td>\n",
       "      <td>7993506</td>\n",
       "      <td>0.290104</td>\n",
       "    </tr>\n",
       "  </tbody>\n",
       "</table>\n",
       "</div>"
      ],
      "text/plain": [
       "       ENERGY        RA       DEC         L         B     THETA        PHI  \\\n",
       "0    117.8400  179.9646 -33.81308  290.8282  27.84342  58.71832  276.24650   \n",
       "1    166.4942  179.7794 -36.94781  291.4443  24.75403  17.06174  297.73740   \n",
       "2   1414.6280  179.9501 -35.99692  291.3597  25.71173  71.29970  349.51040   \n",
       "3  12019.3700  179.7933 -35.63216  291.1318  26.03909  53.59599   75.80354   \n",
       "4    176.3304  179.8074 -34.66773  290.9022  26.98145  53.96607  273.46490   \n",
       "\n",
       "           TIME  EVENT ID  PULSE PHASE  \n",
       "0  2.396096e+08   5314571     0.652637  \n",
       "1  2.396105e+08   7254183     0.695484  \n",
       "2  2.396118e+08  11024151     0.081871  \n",
       "3  2.396165e+08   8917657     0.553284  \n",
       "4  2.396555e+08   7993506     0.290104  "
      ]
     },
     "execution_count": 6,
     "metadata": {},
     "output_type": "execute_result"
    }
   ],
   "source": [
    "df.head()"
   ]
  },
  {
   "cell_type": "markdown",
   "metadata": {},
   "source": [
    "# Preprocessing"
   ]
  },
  {
   "cell_type": "markdown",
   "metadata": {},
   "source": [
    "##### Sort in time, set t = 0 first measurement"
   ]
  },
  {
   "cell_type": "code",
   "execution_count": 9,
   "metadata": {
    "collapsed": false
   },
   "outputs": [],
   "source": [
    "df = df.sort_values('TIME')\n",
    "min_time = np.min(df['TIME'].values)\n",
    "df['TIME'] = df['TIME'].map(lambda x: x - min_time)"
   ]
  },
  {
   "cell_type": "code",
   "execution_count": 10,
   "metadata": {
    "collapsed": false
   },
   "outputs": [
    {
     "data": {
      "text/html": [
       "<div>\n",
       "<table border=\"1\" class=\"dataframe\">\n",
       "  <thead>\n",
       "    <tr style=\"text-align: right;\">\n",
       "      <th></th>\n",
       "      <th>ENERGY</th>\n",
       "      <th>RA</th>\n",
       "      <th>DEC</th>\n",
       "      <th>L</th>\n",
       "      <th>B</th>\n",
       "      <th>THETA</th>\n",
       "      <th>PHI</th>\n",
       "      <th>TIME</th>\n",
       "      <th>EVENT ID</th>\n",
       "      <th>PULSE PHASE</th>\n",
       "    </tr>\n",
       "  </thead>\n",
       "  <tbody>\n",
       "    <tr>\n",
       "      <th>1748</th>\n",
       "      <td>129.4788</td>\n",
       "      <td>198.6116</td>\n",
       "      <td>-33.47010</td>\n",
       "      <td>308.4262</td>\n",
       "      <td>29.15602</td>\n",
       "      <td>52.74782</td>\n",
       "      <td>73.70184</td>\n",
       "      <td>0.0000</td>\n",
       "      <td>163915</td>\n",
       "      <td>0.045586</td>\n",
       "    </tr>\n",
       "    <tr>\n",
       "      <th>271</th>\n",
       "      <td>265.3268</td>\n",
       "      <td>202.1568</td>\n",
       "      <td>-25.31524</td>\n",
       "      <td>313.4409</td>\n",
       "      <td>36.79642</td>\n",
       "      <td>44.61626</td>\n",
       "      <td>69.53087</td>\n",
       "      <td>0.4536</td>\n",
       "      <td>165848</td>\n",
       "      <td>0.187222</td>\n",
       "    </tr>\n",
       "    <tr>\n",
       "      <th>1749</th>\n",
       "      <td>5017.9870</td>\n",
       "      <td>202.4359</td>\n",
       "      <td>-31.69188</td>\n",
       "      <td>312.3860</td>\n",
       "      <td>30.47565</td>\n",
       "      <td>49.34911</td>\n",
       "      <td>75.39683</td>\n",
       "      <td>0.9907</td>\n",
       "      <td>168078</td>\n",
       "      <td>0.939953</td>\n",
       "    </tr>\n",
       "    <tr>\n",
       "      <th>1311</th>\n",
       "      <td>385.9639</td>\n",
       "      <td>193.9431</td>\n",
       "      <td>-41.08589</td>\n",
       "      <td>303.8120</td>\n",
       "      <td>21.77841</td>\n",
       "      <td>61.48712</td>\n",
       "      <td>75.96196</td>\n",
       "      <td>21.8511</td>\n",
       "      <td>254888</td>\n",
       "      <td>0.548622</td>\n",
       "    </tr>\n",
       "    <tr>\n",
       "      <th>1046</th>\n",
       "      <td>1837.4280</td>\n",
       "      <td>202.0537</td>\n",
       "      <td>-22.68129</td>\n",
       "      <td>313.9317</td>\n",
       "      <td>39.40361</td>\n",
       "      <td>45.06182</td>\n",
       "      <td>64.35712</td>\n",
       "      <td>65.9632</td>\n",
       "      <td>436869</td>\n",
       "      <td>0.664089</td>\n",
       "    </tr>\n",
       "  </tbody>\n",
       "</table>\n",
       "</div>"
      ],
      "text/plain": [
       "         ENERGY        RA       DEC         L         B     THETA       PHI  \\\n",
       "1748   129.4788  198.6116 -33.47010  308.4262  29.15602  52.74782  73.70184   \n",
       "271    265.3268  202.1568 -25.31524  313.4409  36.79642  44.61626  69.53087   \n",
       "1749  5017.9870  202.4359 -31.69188  312.3860  30.47565  49.34911  75.39683   \n",
       "1311   385.9639  193.9431 -41.08589  303.8120  21.77841  61.48712  75.96196   \n",
       "1046  1837.4280  202.0537 -22.68129  313.9317  39.40361  45.06182  64.35712   \n",
       "\n",
       "         TIME  EVENT ID  PULSE PHASE  \n",
       "1748   0.0000    163915     0.045586  \n",
       "271    0.4536    165848     0.187222  \n",
       "1749   0.9907    168078     0.939953  \n",
       "1311  21.8511    254888     0.548622  \n",
       "1046  65.9632    436869     0.664089  "
      ]
     },
     "execution_count": 10,
     "metadata": {},
     "output_type": "execute_result"
    }
   ],
   "source": [
    "df.head()"
   ]
  },
  {
   "cell_type": "markdown",
   "metadata": {},
   "source": [
    "##### Inspect columns"
   ]
  },
  {
   "cell_type": "code",
   "execution_count": 11,
   "metadata": {
    "collapsed": false
   },
   "outputs": [
    {
     "data": {
      "text/html": [
       "<div>\n",
       "<table border=\"1\" class=\"dataframe\">\n",
       "  <thead>\n",
       "    <tr style=\"text-align: right;\">\n",
       "      <th></th>\n",
       "      <th>ENERGY</th>\n",
       "      <th>RA</th>\n",
       "      <th>DEC</th>\n",
       "      <th>L</th>\n",
       "      <th>B</th>\n",
       "      <th>THETA</th>\n",
       "      <th>PHI</th>\n",
       "      <th>TIME</th>\n",
       "      <th>EVENT ID</th>\n",
       "      <th>PULSE PHASE</th>\n",
       "    </tr>\n",
       "  </thead>\n",
       "  <tbody>\n",
       "    <tr>\n",
       "      <th>count</th>\n",
       "      <td>3.036117e+06</td>\n",
       "      <td>3.036117e+06</td>\n",
       "      <td>3.036117e+06</td>\n",
       "      <td>3.036117e+06</td>\n",
       "      <td>3.036117e+06</td>\n",
       "      <td>3.036117e+06</td>\n",
       "      <td>3.036117e+06</td>\n",
       "      <td>3.036117e+06</td>\n",
       "      <td>3.036117e+06</td>\n",
       "      <td>3.036117e+06</td>\n",
       "    </tr>\n",
       "    <tr>\n",
       "      <th>mean</th>\n",
       "      <td>4.577849e+02</td>\n",
       "      <td>1.980745e+02</td>\n",
       "      <td>-3.672175e+01</td>\n",
       "      <td>3.075376e+02</td>\n",
       "      <td>2.536689e+01</td>\n",
       "      <td>5.544023e+01</td>\n",
       "      <td>1.541910e+02</td>\n",
       "      <td>3.348544e+07</td>\n",
       "      <td>7.433996e+06</td>\n",
       "      <td>4.997797e-01</td>\n",
       "    </tr>\n",
       "    <tr>\n",
       "      <th>std</th>\n",
       "      <td>2.385240e+03</td>\n",
       "      <td>9.292467e+00</td>\n",
       "      <td>6.910997e+00</td>\n",
       "      <td>8.317897e+00</td>\n",
       "      <td>6.869596e+00</td>\n",
       "      <td>1.791595e+01</td>\n",
       "      <td>1.140567e+02</td>\n",
       "      <td>1.305799e+07</td>\n",
       "      <td>3.923373e+06</td>\n",
       "      <td>2.888203e-01</td>\n",
       "    </tr>\n",
       "    <tr>\n",
       "      <th>min</th>\n",
       "      <td>1.000002e+02</td>\n",
       "      <td>1.796602e+02</td>\n",
       "      <td>-4.948215e+01</td>\n",
       "      <td>2.906225e+02</td>\n",
       "      <td>1.320109e+01</td>\n",
       "      <td>4.602647e-02</td>\n",
       "      <td>1.244711e-04</td>\n",
       "      <td>0.000000e+00</td>\n",
       "      <td>9.740000e+02</td>\n",
       "      <td>0.000000e+00</td>\n",
       "    </tr>\n",
       "    <tr>\n",
       "      <th>25%</th>\n",
       "      <td>1.491545e+02</td>\n",
       "      <td>1.905298e+02</td>\n",
       "      <td>-4.211773e+01</td>\n",
       "      <td>3.008781e+02</td>\n",
       "      <td>1.998093e+01</td>\n",
       "      <td>4.197442e+01</td>\n",
       "      <td>5.434690e+01</td>\n",
       "      <td>2.576872e+07</td>\n",
       "      <td>4.718928e+06</td>\n",
       "      <td>2.495914e-01</td>\n",
       "    </tr>\n",
       "    <tr>\n",
       "      <th>50%</th>\n",
       "      <td>2.275397e+02</td>\n",
       "      <td>1.981240e+02</td>\n",
       "      <td>-3.755651e+01</td>\n",
       "      <td>3.075397e+02</td>\n",
       "      <td>2.439697e+01</td>\n",
       "      <td>6.347301e+01</td>\n",
       "      <td>1.346877e+02</td>\n",
       "      <td>3.561246e+07</td>\n",
       "      <td>7.612582e+06</td>\n",
       "      <td>4.996328e-01</td>\n",
       "    </tr>\n",
       "    <tr>\n",
       "      <th>75%</th>\n",
       "      <td>4.067823e+02</td>\n",
       "      <td>2.056478e+02</td>\n",
       "      <td>-3.183432e+01</td>\n",
       "      <td>3.141646e+02</td>\n",
       "      <td>3.010335e+01</td>\n",
       "      <td>6.850214e+01</td>\n",
       "      <td>2.635124e+02</td>\n",
       "      <td>4.402703e+07</td>\n",
       "      <td>1.016000e+07</td>\n",
       "      <td>7.498941e-01</td>\n",
       "    </tr>\n",
       "    <tr>\n",
       "      <th>max</th>\n",
       "      <td>2.991870e+05</td>\n",
       "      <td>2.162571e+02</td>\n",
       "      <td>-1.948332e+01</td>\n",
       "      <td>3.247774e+02</td>\n",
       "      <td>4.319901e+01</td>\n",
       "      <td>8.410781e+01</td>\n",
       "      <td>3.600000e+02</td>\n",
       "      <td>5.100380e+07</td>\n",
       "      <td>1.790765e+07</td>\n",
       "      <td>9.999995e-01</td>\n",
       "    </tr>\n",
       "  </tbody>\n",
       "</table>\n",
       "</div>"
      ],
      "text/plain": [
       "             ENERGY            RA           DEC             L             B  \\\n",
       "count  3.036117e+06  3.036117e+06  3.036117e+06  3.036117e+06  3.036117e+06   \n",
       "mean   4.577849e+02  1.980745e+02 -3.672175e+01  3.075376e+02  2.536689e+01   \n",
       "std    2.385240e+03  9.292467e+00  6.910997e+00  8.317897e+00  6.869596e+00   \n",
       "min    1.000002e+02  1.796602e+02 -4.948215e+01  2.906225e+02  1.320109e+01   \n",
       "25%    1.491545e+02  1.905298e+02 -4.211773e+01  3.008781e+02  1.998093e+01   \n",
       "50%    2.275397e+02  1.981240e+02 -3.755651e+01  3.075397e+02  2.439697e+01   \n",
       "75%    4.067823e+02  2.056478e+02 -3.183432e+01  3.141646e+02  3.010335e+01   \n",
       "max    2.991870e+05  2.162571e+02 -1.948332e+01  3.247774e+02  4.319901e+01   \n",
       "\n",
       "              THETA           PHI          TIME      EVENT ID   PULSE PHASE  \n",
       "count  3.036117e+06  3.036117e+06  3.036117e+06  3.036117e+06  3.036117e+06  \n",
       "mean   5.544023e+01  1.541910e+02  3.348544e+07  7.433996e+06  4.997797e-01  \n",
       "std    1.791595e+01  1.140567e+02  1.305799e+07  3.923373e+06  2.888203e-01  \n",
       "min    4.602647e-02  1.244711e-04  0.000000e+00  9.740000e+02  0.000000e+00  \n",
       "25%    4.197442e+01  5.434690e+01  2.576872e+07  4.718928e+06  2.495914e-01  \n",
       "50%    6.347301e+01  1.346877e+02  3.561246e+07  7.612582e+06  4.996328e-01  \n",
       "75%    6.850214e+01  2.635124e+02  4.402703e+07  1.016000e+07  7.498941e-01  \n",
       "max    8.410781e+01  3.600000e+02  5.100380e+07  1.790765e+07  9.999995e-01  "
      ]
     },
     "execution_count": 11,
     "metadata": {},
     "output_type": "execute_result"
    }
   ],
   "source": [
    "df.describe()"
   ]
  },
  {
   "cell_type": "markdown",
   "metadata": {},
   "source": [
    "##### Adjust energy column\n",
    "Mean photon energy is 457 eV (?), but the max is 299000... That doesn't seem right. Remove all photons that are too far outside of range. Compare the histogram before and after removing these points."
   ]
  },
  {
   "cell_type": "code",
   "execution_count": 12,
   "metadata": {
    "collapsed": false
   },
   "outputs": [
    {
     "data": {
      "image/png": "[encoded data removed]",
      "text/plain": [
       "<matplotlib.figure.Figure at 0x7f874c5ae250>"
      ]
     },
     "metadata": {},
     "output_type": "display_data"
    }
   ],
   "source": [
    "energy = df['ENERGY'].values\n",
    "plt.hist(energy, bins = 10)\n",
    "plt.show()"
   ]
  },
  {
   "cell_type": "code",
   "execution_count": 13,
   "metadata": {
    "collapsed": false
   },
   "outputs": [
    {
     "name": "stdout",
     "output_type": "stream",
     "text": [
      "7613.50314618\n"
     ]
    }
   ],
   "source": [
    "energy_cutoff = np.mean(energy) + 3*np.std(energy)\n",
    "print energy_cutoff"
   ]
  },
  {
   "cell_type": "code",
   "execution_count": 14,
   "metadata": {
    "collapsed": false
   },
   "outputs": [
    {
     "name": "stdout",
     "output_type": "stream",
     "text": [
      "3036117\n",
      "3027379\n"
     ]
    }
   ],
   "source": [
    "print len(df)\n",
    "df = df[df['ENERGY'] < energy_cutoff]\n",
    "print len(df)"
   ]
  },
  {
   "cell_type": "code",
   "execution_count": 15,
   "metadata": {
    "collapsed": false
   },
   "outputs": [
    {
     "data": {
      "image/png": "[encoded data removed]",
      "text/plain": [
       "<matplotlib.figure.Figure at 0x7f87164063d0>"
      ]
     },
     "metadata": {},
     "output_type": "display_data"
    }
   ],
   "source": [
    "energy = df['ENERGY'].values\n",
    "plt.hist(energy, bins = 10)\n",
    "plt.show()"
   ]
  },
  {
   "cell_type": "code",
   "execution_count": 16,
   "metadata": {
    "collapsed": false
   },
   "outputs": [
    {
     "data": {
      "text/html": [
       "<div>\n",
       "<table border=\"1\" class=\"dataframe\">\n",
       "  <thead>\n",
       "    <tr style=\"text-align: right;\">\n",
       "      <th></th>\n",
       "      <th>ENERGY</th>\n",
       "      <th>RA</th>\n",
       "      <th>DEC</th>\n",
       "      <th>L</th>\n",
       "      <th>B</th>\n",
       "      <th>THETA</th>\n",
       "      <th>PHI</th>\n",
       "      <th>TIME</th>\n",
       "      <th>EVENT ID</th>\n",
       "      <th>PULSE PHASE</th>\n",
       "    </tr>\n",
       "  </thead>\n",
       "  <tbody>\n",
       "    <tr>\n",
       "      <th>count</th>\n",
       "      <td>3.027379e+06</td>\n",
       "      <td>3.027379e+06</td>\n",
       "      <td>3.027379e+06</td>\n",
       "      <td>3.027379e+06</td>\n",
       "      <td>3.027379e+06</td>\n",
       "      <td>3.027379e+06</td>\n",
       "      <td>3.027379e+06</td>\n",
       "      <td>3.027379e+06</td>\n",
       "      <td>3.027379e+06</td>\n",
       "      <td>3.027379e+06</td>\n",
       "    </tr>\n",
       "    <tr>\n",
       "      <th>mean</th>\n",
       "      <td>3.868079e+02</td>\n",
       "      <td>1.980742e+02</td>\n",
       "      <td>-3.672333e+01</td>\n",
       "      <td>3.075372e+02</td>\n",
       "      <td>2.536528e+01</td>\n",
       "      <td>5.546010e+01</td>\n",
       "      <td>1.541610e+02</td>\n",
       "      <td>3.349518e+07</td>\n",
       "      <td>7.435777e+06</td>\n",
       "      <td>4.997744e-01</td>\n",
       "    </tr>\n",
       "    <tr>\n",
       "      <th>std</th>\n",
       "      <td>5.230211e+02</td>\n",
       "      <td>9.293026e+00</td>\n",
       "      <td>6.909625e+00</td>\n",
       "      <td>8.318156e+00</td>\n",
       "      <td>6.868197e+00</td>\n",
       "      <td>1.790765e+01</td>\n",
       "      <td>1.140561e+02</td>\n",
       "      <td>1.305187e+07</td>\n",
       "      <td>3.923071e+06</td>\n",
       "      <td>2.888222e-01</td>\n",
       "    </tr>\n",
       "    <tr>\n",
       "      <th>min</th>\n",
       "      <td>1.000002e+02</td>\n",
       "      <td>1.796602e+02</td>\n",
       "      <td>-4.948215e+01</td>\n",
       "      <td>2.906225e+02</td>\n",
       "      <td>1.320109e+01</td>\n",
       "      <td>4.602647e-02</td>\n",
       "      <td>1.244711e-04</td>\n",
       "      <td>0.000000e+00</td>\n",
       "      <td>9.740000e+02</td>\n",
       "      <td>0.000000e+00</td>\n",
       "    </tr>\n",
       "    <tr>\n",
       "      <th>25%</th>\n",
       "      <td>1.489802e+02</td>\n",
       "      <td>1.905284e+02</td>\n",
       "      <td>-4.211755e+01</td>\n",
       "      <td>3.008771e+02</td>\n",
       "      <td>1.998094e+01</td>\n",
       "      <td>4.200962e+01</td>\n",
       "      <td>5.432279e+01</td>\n",
       "      <td>2.578943e+07</td>\n",
       "      <td>4.722188e+06</td>\n",
       "      <td>2.495916e-01</td>\n",
       "    </tr>\n",
       "    <tr>\n",
       "      <th>50%</th>\n",
       "      <td>2.269374e+02</td>\n",
       "      <td>1.981235e+02</td>\n",
       "      <td>-3.755783e+01</td>\n",
       "      <td>3.075389e+02</td>\n",
       "      <td>2.439574e+01</td>\n",
       "      <td>6.348494e+01</td>\n",
       "      <td>1.346598e+02</td>\n",
       "      <td>3.561277e+07</td>\n",
       "      <td>7.614664e+06</td>\n",
       "      <td>4.996090e-01</td>\n",
       "    </tr>\n",
       "    <tr>\n",
       "      <th>75%</th>\n",
       "      <td>4.041227e+02</td>\n",
       "      <td>2.056483e+02</td>\n",
       "      <td>-3.183808e+01</td>\n",
       "      <td>3.141649e+02</td>\n",
       "      <td>3.009964e+01</td>\n",
       "      <td>6.851036e+01</td>\n",
       "      <td>2.634541e+02</td>\n",
       "      <td>4.402714e+07</td>\n",
       "      <td>1.016178e+07</td>\n",
       "      <td>7.498915e-01</td>\n",
       "    </tr>\n",
       "    <tr>\n",
       "      <th>max</th>\n",
       "      <td>7.613303e+03</td>\n",
       "      <td>2.162571e+02</td>\n",
       "      <td>-1.948332e+01</td>\n",
       "      <td>3.247774e+02</td>\n",
       "      <td>4.319901e+01</td>\n",
       "      <td>8.410781e+01</td>\n",
       "      <td>3.600000e+02</td>\n",
       "      <td>5.100380e+07</td>\n",
       "      <td>1.790765e+07</td>\n",
       "      <td>9.999995e-01</td>\n",
       "    </tr>\n",
       "  </tbody>\n",
       "</table>\n",
       "</div>"
      ],
      "text/plain": [
       "             ENERGY            RA           DEC             L             B  \\\n",
       "count  3.027379e+06  3.027379e+06  3.027379e+06  3.027379e+06  3.027379e+06   \n",
       "mean   3.868079e+02  1.980742e+02 -3.672333e+01  3.075372e+02  2.536528e+01   \n",
       "std    5.230211e+02  9.293026e+00  6.909625e+00  8.318156e+00  6.868197e+00   \n",
       "min    1.000002e+02  1.796602e+02 -4.948215e+01  2.906225e+02  1.320109e+01   \n",
       "25%    1.489802e+02  1.905284e+02 -4.211755e+01  3.008771e+02  1.998094e+01   \n",
       "50%    2.269374e+02  1.981235e+02 -3.755783e+01  3.075389e+02  2.439574e+01   \n",
       "75%    4.041227e+02  2.056483e+02 -3.183808e+01  3.141649e+02  3.009964e+01   \n",
       "max    7.613303e+03  2.162571e+02 -1.948332e+01  3.247774e+02  4.319901e+01   \n",
       "\n",
       "              THETA           PHI          TIME      EVENT ID   PULSE PHASE  \n",
       "count  3.027379e+06  3.027379e+06  3.027379e+06  3.027379e+06  3.027379e+06  \n",
       "mean   5.546010e+01  1.541610e+02  3.349518e+07  7.435777e+06  4.997744e-01  \n",
       "std    1.790765e+01  1.140561e+02  1.305187e+07  3.923071e+06  2.888222e-01  \n",
       "min    4.602647e-02  1.244711e-04  0.000000e+00  9.740000e+02  0.000000e+00  \n",
       "25%    4.200962e+01  5.432279e+01  2.578943e+07  4.722188e+06  2.495916e-01  \n",
       "50%    6.348494e+01  1.346598e+02  3.561277e+07  7.614664e+06  4.996090e-01  \n",
       "75%    6.851036e+01  2.634541e+02  4.402714e+07  1.016178e+07  7.498915e-01  \n",
       "max    8.410781e+01  3.600000e+02  5.100380e+07  1.790765e+07  9.999995e-01  "
      ]
     },
     "execution_count": 16,
     "metadata": {},
     "output_type": "execute_result"
    }
   ],
   "source": [
    "df.describe()"
   ]
  },
  {
   "cell_type": "markdown",
   "metadata": {},
   "source": [
    "##### Remove points within +/- $\\phi$ ('on-phase' events)"
   ]
  },
  {
   "cell_type": "code",
   "execution_count": 17,
   "metadata": {
    "collapsed": false
   },
   "outputs": [
    {
     "data": {
      "image/png": "[encoded data removed]",
      "text/plain": [
       "<matplotlib.figure.Figure at 0x7f86f9a94810>"
      ]
     },
     "metadata": {},
     "output_type": "display_data"
    }
   ],
   "source": [
    "plt.hist(df['PULSE PHASE'])\n",
    "plt.show()"
   ]
  },
  {
   "cell_type": "markdown",
   "metadata": {},
   "source": [
    "phase_cutoff = .5\n",
    "df = df[df['PULSE PHASE'] < phase_cutoff]"
   ]
  },
  {
   "cell_type": "markdown",
   "metadata": {},
   "source": [
    "# Quick exploration"
   ]
  },
  {
   "cell_type": "code",
   "execution_count": 18,
   "metadata": {
    "collapsed": false
   },
   "outputs": [
    {
     "data": {
      "image/png": "[encoded data removed]",
      "text/plain": [
       "<matplotlib.figure.Figure at 0x7f86ec997f10>"
      ]
     },
     "metadata": {},
     "output_type": "display_data"
    }
   ],
   "source": [
    "data = df[['TIME', 'PULSE PHASE']].values[:1000]\n",
    "\n",
    "plt.plot(data[:,0], data[:,1])\n",
    "plt.show()"
   ]
  },
  {
   "cell_type": "markdown",
   "metadata": {
    "collapsed": true
   },
   "source": [
    "##### Check the PSD of the PULSE PHASE to see if we can see the ms pulsar signal"
   ]
  },
  {
   "cell_type": "code",
   "execution_count": 40,
   "metadata": {
    "collapsed": false
   },
   "outputs": [
    {
     "name": "stdout",
     "output_type": "stream",
     "text": [
      "0.000177683013504\n"
     ]
    }
   ],
   "source": [
    "orbital_freq = 1/(93.8*60)\n",
    "print orbital_freq"
   ]
  },
  {
   "cell_type": "code",
   "execution_count": 41,
   "metadata": {
    "collapsed": false
   },
   "outputs": [],
   "source": [
    "data = df[['TIME', 'PULSE PHASE']].values[:100000]\n",
    "freq, power = astropy.stats.LombScargle(data[:,0], data[:,1]).autopower()"
   ]
  },
  {
   "cell_type": "code",
   "execution_count": 42,
   "metadata": {
    "collapsed": false
   },
   "outputs": [
    {
     "name": "stdout",
     "output_type": "stream",
     "text": [
      "2.06428302161e-08 0.0516070548973\n"
     ]
    }
   ],
   "source": [
    "print np.min(freq), np.max(freq)"
   ]
  },
  {
   "cell_type": "code",
   "execution_count": 43,
   "metadata": {
    "collapsed": false
   },
   "outputs": [
    {
     "name": "stdout",
     "output_type": "stream",
     "text": [
      "560.682520417\n"
     ]
    }
   ],
   "source": [
    "min_freq = np.min(freq)\n",
    "duration = 1./min_freq\n",
    "print duration/(60*60*24)"
   ]
  },
  {
   "cell_type": "code",
   "execution_count": 45,
   "metadata": {
    "collapsed": false
   },
   "outputs": [
    {
     "data": {
      "image/png": "[encoded data removed]",
      "text/plain": [
       "<matplotlib.figure.Figure at 0x7f86ec8bf350>"
      ]
     },
     "metadata": {},
     "output_type": "display_data"
    }
   ],
   "source": [
    "fig = plt.figure(figsize = (10,10))\n",
    "plt.loglog(freq, power)\n",
    "plt.plot([orbital_freq, orbital_freq], [np.min(power), np.max(power)], ls = '--', color = 'red', lw = 3)\n",
    "plt.show()"
   ]
  },
  {
   "cell_type": "code",
   "execution_count": 49,
   "metadata": {
    "collapsed": false
   },
   "outputs": [
    {
     "data": {
      "image/png": "[encoded data removed]",
      "text/plain": [
       "<matplotlib.figure.Figure at 0x7f86ec8070d0>"
      ]
     },
     "metadata": {},
     "output_type": "display_data"
    }
   ],
   "source": [
    "fig = plt.figure(figsize = (10,10))\n",
    "plt.loglog(freq, power)\n",
    "plt.plot([orbital_freq, orbital_freq], [np.min(power), np.max(power)], ls = '--', color = 'red', lw = 3)\n",
    "plt.xlim(orbital_freq*.9, orbital_freq*1.1)\n",
    "plt.show()"
   ]
  },
  {
   "cell_type": "code",
   "execution_count": null,
   "metadata": {
    "collapsed": true
   },
   "outputs": [],
   "source": []
  }
 ],
 "metadata": {
  "kernelspec": {
   "display_name": "Python 2",
   "language": "python",
   "name": "python2"
  },
  "language_info": {
   "codemirror_mode": {
    "name": "ipython",
    "version": 2
   },
   "file_extension": ".py",
   "mimetype": "text/x-python",
   "name": "python",
   "nbconvert_exporter": "python",
   "pygments_lexer": "ipython2",
   "version": "2.7.11"
  }
 },
 "nbformat": 4,
 "nbformat_minor": 0
}
